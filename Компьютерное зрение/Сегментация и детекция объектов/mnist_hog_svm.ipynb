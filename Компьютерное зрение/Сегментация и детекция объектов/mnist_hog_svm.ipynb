{
 "cells": [
  {
   "cell_type": "markdown",
   "id": "c5e2e443",
   "metadata": {},
   "source": [
    "# Домашнее задание\n",
    "\n",
    "**Цель:** accuracy > 0.6 на паблик-лидерборде Kaggle.\n",
    "\n",
    "**Порядок:**\n",
    "- Загрузка CSV (./data/digit/train.csv, ./data/digit/test.csv)\n",
    "- HOG-признаки (скользящее окно по 28×28), нормализация\n",
    "- LinearSVC (линейный SVM) в `Pipeline`\n",
    "- Валидация на hold-out, матрица ошибок\n",
    "- Формирование `submission.csv`"
   ]
  },
  {
   "cell_type": "code",
   "execution_count": 5,
   "id": "fc0b6417",
   "metadata": {},
   "outputs": [],
   "source": [
    "# Библиотеки\n",
    "%matplotlib inline\n",
    "import numpy as np\n",
    "import pandas as pd\n",
    "import matplotlib.pyplot as plt\n",
    "\n",
    "from sklearn.model_selection import train_test_split\n",
    "from sklearn.preprocessing import StandardScaler\n",
    "from sklearn.pipeline import Pipeline\n",
    "from sklearn.metrics import accuracy_score, classification_report, ConfusionMatrixDisplay\n",
    "\n",
    "from sklearn.svm import LinearSVC\n",
    "\n",
    "from skimage.feature import hog\n",
    "\n",
    "# Убираем лишние предупреждения ради чистоты вывода\n",
    "import warnings\n",
    "warnings.filterwarnings('ignore')"
   ]
  },
  {
   "cell_type": "markdown",
   "id": "87d77e26",
   "metadata": {},
   "source": [
    "## 1) Загрузка данных"
   ]
  },
  {
   "cell_type": "code",
   "execution_count": 6,
   "id": "5c3c8474",
   "metadata": {},
   "outputs": [
    {
     "name": "stdout",
     "output_type": "stream",
     "text": [
      "(42000, 785) (28000, 784)\n"
     ]
    },
    {
     "data": {
      "text/html": [
       "<div>\n",
       "<style scoped>\n",
       "    .dataframe tbody tr th:only-of-type {\n",
       "        vertical-align: middle;\n",
       "    }\n",
       "\n",
       "    .dataframe tbody tr th {\n",
       "        vertical-align: top;\n",
       "    }\n",
       "\n",
       "    .dataframe thead th {\n",
       "        text-align: right;\n",
       "    }\n",
       "</style>\n",
       "<table border=\"1\" class=\"dataframe\">\n",
       "  <thead>\n",
       "    <tr style=\"text-align: right;\">\n",
       "      <th></th>\n",
       "      <th>label</th>\n",
       "      <th>pixel0</th>\n",
       "      <th>pixel1</th>\n",
       "      <th>pixel2</th>\n",
       "      <th>pixel3</th>\n",
       "      <th>pixel4</th>\n",
       "      <th>pixel5</th>\n",
       "      <th>pixel6</th>\n",
       "      <th>pixel7</th>\n",
       "      <th>pixel8</th>\n",
       "      <th>...</th>\n",
       "      <th>pixel774</th>\n",
       "      <th>pixel775</th>\n",
       "      <th>pixel776</th>\n",
       "      <th>pixel777</th>\n",
       "      <th>pixel778</th>\n",
       "      <th>pixel779</th>\n",
       "      <th>pixel780</th>\n",
       "      <th>pixel781</th>\n",
       "      <th>pixel782</th>\n",
       "      <th>pixel783</th>\n",
       "    </tr>\n",
       "  </thead>\n",
       "  <tbody>\n",
       "    <tr>\n",
       "      <th>0</th>\n",
       "      <td>1</td>\n",
       "      <td>0</td>\n",
       "      <td>0</td>\n",
       "      <td>0</td>\n",
       "      <td>0</td>\n",
       "      <td>0</td>\n",
       "      <td>0</td>\n",
       "      <td>0</td>\n",
       "      <td>0</td>\n",
       "      <td>0</td>\n",
       "      <td>...</td>\n",
       "      <td>0</td>\n",
       "      <td>0</td>\n",
       "      <td>0</td>\n",
       "      <td>0</td>\n",
       "      <td>0</td>\n",
       "      <td>0</td>\n",
       "      <td>0</td>\n",
       "      <td>0</td>\n",
       "      <td>0</td>\n",
       "      <td>0</td>\n",
       "    </tr>\n",
       "    <tr>\n",
       "      <th>1</th>\n",
       "      <td>0</td>\n",
       "      <td>0</td>\n",
       "      <td>0</td>\n",
       "      <td>0</td>\n",
       "      <td>0</td>\n",
       "      <td>0</td>\n",
       "      <td>0</td>\n",
       "      <td>0</td>\n",
       "      <td>0</td>\n",
       "      <td>0</td>\n",
       "      <td>...</td>\n",
       "      <td>0</td>\n",
       "      <td>0</td>\n",
       "      <td>0</td>\n",
       "      <td>0</td>\n",
       "      <td>0</td>\n",
       "      <td>0</td>\n",
       "      <td>0</td>\n",
       "      <td>0</td>\n",
       "      <td>0</td>\n",
       "      <td>0</td>\n",
       "    </tr>\n",
       "    <tr>\n",
       "      <th>2</th>\n",
       "      <td>1</td>\n",
       "      <td>0</td>\n",
       "      <td>0</td>\n",
       "      <td>0</td>\n",
       "      <td>0</td>\n",
       "      <td>0</td>\n",
       "      <td>0</td>\n",
       "      <td>0</td>\n",
       "      <td>0</td>\n",
       "      <td>0</td>\n",
       "      <td>...</td>\n",
       "      <td>0</td>\n",
       "      <td>0</td>\n",
       "      <td>0</td>\n",
       "      <td>0</td>\n",
       "      <td>0</td>\n",
       "      <td>0</td>\n",
       "      <td>0</td>\n",
       "      <td>0</td>\n",
       "      <td>0</td>\n",
       "      <td>0</td>\n",
       "    </tr>\n",
       "  </tbody>\n",
       "</table>\n",
       "<p>3 rows × 785 columns</p>\n",
       "</div>"
      ],
      "text/plain": [
       "   label  pixel0  pixel1  pixel2  pixel3  pixel4  pixel5  pixel6  pixel7  \\\n",
       "0      1       0       0       0       0       0       0       0       0   \n",
       "1      0       0       0       0       0       0       0       0       0   \n",
       "2      1       0       0       0       0       0       0       0       0   \n",
       "\n",
       "   pixel8  ...  pixel774  pixel775  pixel776  pixel777  pixel778  pixel779  \\\n",
       "0       0  ...         0         0         0         0         0         0   \n",
       "1       0  ...         0         0         0         0         0         0   \n",
       "2       0  ...         0         0         0         0         0         0   \n",
       "\n",
       "   pixel780  pixel781  pixel782  pixel783  \n",
       "0         0         0         0         0  \n",
       "1         0         0         0         0  \n",
       "2         0         0         0         0  \n",
       "\n",
       "[3 rows x 785 columns]"
      ]
     },
     "execution_count": 6,
     "metadata": {},
     "output_type": "execute_result"
    }
   ],
   "source": [
    "# Пути к CSV из соревнования Kaggle Digit Recognizer\n",
    "TRAIN_PATH = './data/digit/train.csv'\n",
    "TEST_PATH  = './data/digit/test.csv'\n",
    "\n",
    "train_df = pd.read_csv(TRAIN_PATH)\n",
    "test_df  = pd.read_csv(TEST_PATH)\n",
    "\n",
    "print(train_df.shape, test_df.shape)\n",
    "train_df.head()[:3]"
   ]
  },
  {
   "cell_type": "markdown",
   "id": "1603fff9",
   "metadata": {},
   "source": [
    "## 2) Визуализация нескольких примеров"
   ]
  },
  {
   "cell_type": "code",
   "execution_count": 7,
   "id": "a36e78ec",
   "metadata": {},
   "outputs": [
    {
     "data": {
      "image/png": "[encoded data removed]",
      "text/plain": [
       "<Figure size 1200x200 with 10 Axes>"
      ]
     },
     "metadata": {},
     "output_type": "display_data"
    }
   ],
   "source": [
    "def plot_samples(images, labels=None, n=10):\n",
    "    plt.figure(figsize=(12, 2))\n",
    "    for i in range(n):\n",
    "        plt.subplot(1, n, i+1)\n",
    "        plt.imshow(images[i].reshape(28, 28), cmap='gray')\n",
    "        title = str(labels[i]) if labels is not None else ''\n",
    "        plt.title(title)\n",
    "        plt.axis('off')\n",
    "    plt.tight_layout()\n",
    "    \n",
    "X_pixels = train_df.drop(columns=['label']).values.astype(np.uint8)\n",
    "y = train_df['label'].values.astype(np.uint8)\n",
    "\n",
    "plot_samples(X_pixels, y, n=10)"
   ]
  },
  {
   "cell_type": "markdown",
   "id": "380bc6a2",
   "metadata": {},
   "source": [
    "## 3) Функция извлечения HOG-признаков\n",
    "Подбираемые параметры HOG (по умолчанию работают хорошо):\n",
    "- `pixels_per_cell=(4, 4)`\n",
    "- `cells_per_block=(2, 2)`\n",
    "- `orientations=9`"
   ]
  },
  {
   "cell_type": "code",
   "execution_count": 8,
   "id": "150d8ba1",
   "metadata": {},
   "outputs": [
    {
     "name": "stdout",
     "output_type": "stream",
     "text": [
      "HOG extraction OK, sample feature length: 1296\n"
     ]
    }
   ],
   "source": [
    "def extract_hog_batch(X_flat, pixels_per_cell=(4,4), cells_per_block=(2,2), orientations=9):\n",
    "    # X_flat: (n_samples, 784) в виде uint8/float\n",
    "    X_hog = []\n",
    "    for row in X_flat:\n",
    "        img = row.reshape(28, 28)\n",
    "        feat = hog(img,\n",
    "                   orientations=orientations,\n",
    "                   pixels_per_cell=pixels_per_cell,\n",
    "                   cells_per_block=cells_per_block,\n",
    "                   block_norm='L2-Hys',\n",
    "                   visualize=False,\n",
    "                   feature_vector=True)\n",
    "        X_hog.append(feat)\n",
    "    return np.array(X_hog, dtype=np.float32)\n",
    "\n",
    "# Пробное извлечение (на небольшой подвыборке — быстро)\n",
    "_ = extract_hog_batch(X_pixels[:5])\n",
    "print(\"HOG extraction OK, sample feature length:\", _.shape[1])"
   ]
  },
  {
   "cell_type": "markdown",
   "id": "12ae929e",
   "metadata": {},
   "source": [
    "## 4) Разделение на train/val и извлечение HOG"
   ]
  },
  {
   "cell_type": "code",
   "execution_count": 9,
   "id": "0fadeafb",
   "metadata": {},
   "outputs": [
    {
     "name": "stdout",
     "output_type": "stream",
     "text": [
      "(35700, 1296) (6300, 1296)\n"
     ]
    }
   ],
   "source": [
    "X_train_px, X_val_px, y_train, y_val = train_test_split(\n",
    "    X_pixels, y, test_size=0.15, random_state=42, stratify=y\n",
    ")\n",
    "\n",
    "# Извлекаем HOG-фичи\n",
    "X_train_hog = extract_hog_batch(X_train_px)\n",
    "X_val_hog   = extract_hog_batch(X_val_px)\n",
    "\n",
    "print(X_train_hog.shape, X_val_hog.shape)"
   ]
  },
  {
   "cell_type": "markdown",
   "id": "83df2579",
   "metadata": {},
   "source": [
    "## 5) Модель: Linear SVM в пайплайне со стандартизацией"
   ]
  },
  {
   "cell_type": "code",
   "execution_count": 10,
   "id": "09cafd62",
   "metadata": {},
   "outputs": [
    {
     "name": "stdout",
     "output_type": "stream",
     "text": [
      "Validation accuracy: 0.9687\n"
     ]
    }
   ],
   "source": [
    "# LinearSVC часто хорошо работает на HOG; C=1.0 — базовый старт\n",
    "clf = Pipeline([\n",
    "    ('scaler', StandardScaler(with_mean=False)),\n",
    "    ('svm', LinearSVC(C=1.0, max_iter=4000, dual=True))\n",
    "])\n",
    "\n",
    "clf.fit(X_train_hog, y_train)\n",
    "\n",
    "pred_val = clf.predict(X_val_hog)\n",
    "acc = accuracy_score(y_val, pred_val)\n",
    "print(f'Validation accuracy: {acc:.4f}')"
   ]
  },
  {
   "cell_type": "markdown",
   "id": "914c6ba6",
   "metadata": {},
   "source": [
    "### Классификационный отчёт и матрица ошибок"
   ]
  },
  {
   "cell_type": "code",
   "execution_count": 11,
   "id": "b357b69a",
   "metadata": {},
   "outputs": [
    {
     "name": "stdout",
     "output_type": "stream",
     "text": [
      "              precision    recall  f1-score   support\n",
      "\n",
      "           0       0.98      0.99      0.98       620\n",
      "           1       0.98      0.99      0.98       703\n",
      "           2       0.97      0.97      0.97       627\n",
      "           3       0.98      0.96      0.97       653\n",
      "           4       0.97      0.96      0.96       611\n",
      "           5       0.97      0.96      0.96       569\n",
      "           6       0.98      0.98      0.98       620\n",
      "           7       0.97      0.97      0.97       660\n",
      "           8       0.97      0.94      0.96       609\n",
      "           9       0.93      0.96      0.94       628\n",
      "\n",
      "    accuracy                           0.97      6300\n",
      "   macro avg       0.97      0.97      0.97      6300\n",
      "weighted avg       0.97      0.97      0.97      6300\n",
      "\n"
     ]
    },
    {
     "data": {
      "text/plain": [
       "<Figure size 600x600 with 0 Axes>"
      ]
     },
     "metadata": {},
     "output_type": "display_data"
    },
    {
     "data": {
      "image/png": "[encoded data removed]",
      "text/plain": [
       "<Figure size 640x480 with 2 Axes>"
      ]
     },
     "metadata": {},
     "output_type": "display_data"
    }
   ],
   "source": [
    "print(classification_report(y_val, pred_val))\n",
    "\n",
    "fig = plt.figure(figsize=(6,6))\n",
    "ConfusionMatrixDisplay.from_predictions(y_val, pred_val)\n",
    "plt.title('Confusion Matrix (Validation)')\n",
    "plt.show()"
   ]
  },
  {
   "cell_type": "markdown",
   "id": "6cb345ae",
   "metadata": {},
   "source": [
    "## 6) Обучение на **всей** обучающей выборке и предсказание для теста\n",
    "Перестроим HOG на всех train и на test, затем обучим финальную модель и сохраним submission."
   ]
  },
  {
   "cell_type": "code",
   "execution_count": 12,
   "id": "93a2db62",
   "metadata": {},
   "outputs": [
    {
     "data": {
      "text/html": [
       "<div>\n",
       "<style scoped>\n",
       "    .dataframe tbody tr th:only-of-type {\n",
       "        vertical-align: middle;\n",
       "    }\n",
       "\n",
       "    .dataframe tbody tr th {\n",
       "        vertical-align: top;\n",
       "    }\n",
       "\n",
       "    .dataframe thead th {\n",
       "        text-align: right;\n",
       "    }\n",
       "</style>\n",
       "<table border=\"1\" class=\"dataframe\">\n",
       "  <thead>\n",
       "    <tr style=\"text-align: right;\">\n",
       "      <th></th>\n",
       "      <th>ImageId</th>\n",
       "      <th>Label</th>\n",
       "    </tr>\n",
       "  </thead>\n",
       "  <tbody>\n",
       "    <tr>\n",
       "      <th>0</th>\n",
       "      <td>1</td>\n",
       "      <td>2</td>\n",
       "    </tr>\n",
       "    <tr>\n",
       "      <th>1</th>\n",
       "      <td>2</td>\n",
       "      <td>0</td>\n",
       "    </tr>\n",
       "    <tr>\n",
       "      <th>2</th>\n",
       "      <td>3</td>\n",
       "      <td>9</td>\n",
       "    </tr>\n",
       "    <tr>\n",
       "      <th>3</th>\n",
       "      <td>4</td>\n",
       "      <td>9</td>\n",
       "    </tr>\n",
       "    <tr>\n",
       "      <th>4</th>\n",
       "      <td>5</td>\n",
       "      <td>3</td>\n",
       "    </tr>\n",
       "  </tbody>\n",
       "</table>\n",
       "</div>"
      ],
      "text/plain": [
       "   ImageId  Label\n",
       "0        1      2\n",
       "1        2      0\n",
       "2        3      9\n",
       "3        4      9\n",
       "4        5      3"
      ]
     },
     "execution_count": 12,
     "metadata": {},
     "output_type": "execute_result"
    }
   ],
   "source": [
    "# HOG на всём train и на test\n",
    "X_all_px = train_df.drop(columns=['label']).values.astype(np.uint8)\n",
    "y_all    = train_df['label'].values.astype(np.uint8)\n",
    "X_test_px = test_df.values.astype(np.uint8)\n",
    "\n",
    "X_all_hog  = extract_hog_batch(X_all_px)\n",
    "X_test_hog = extract_hog_batch(X_test_px)\n",
    "\n",
    "final_clf = Pipeline([\n",
    "    ('scaler', StandardScaler(with_mean=False)),\n",
    "    ('svm', LinearSVC(C=1.0, max_iter=5000, dual=True))\n",
    "])\n",
    "final_clf.fit(X_all_hog, y_all)\n",
    "\n",
    "test_pred = final_clf.predict(X_test_hog)\n",
    "\n",
    "# Формируем submission\n",
    "sub = pd.DataFrame({\n",
    "    'ImageId': np.arange(1, len(test_pred)+1),\n",
    "    'Label': test_pred\n",
    "})\n",
    "sub_path = 'submission.csv'\n",
    "sub.to_csv(sub_path, index=False)\n",
    "sub.head()"
   ]
  }
 ],
 "metadata": {
  "kernelspec": {
   "display_name": "Python 3",
   "language": "python",
   "name": "python3"
  },
  "language_info": {
   "codemirror_mode": {
    "name": "ipython",
    "version": 3
   },
   "file_extension": ".py",
   "mimetype": "text/x-python",
   "name": "python",
   "nbconvert_exporter": "python",
   "pygments_lexer": "ipython3",
   "version": "3.12.8"
  }
 },
 "nbformat": 4,
 "nbformat_minor": 5
}
