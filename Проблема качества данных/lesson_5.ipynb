{
 "cells": [
  {
   "cell_type": "markdown",
   "metadata": {
    "id": "JvjkOkTE-Hs3"
   },
   "source": [
    "https://bit.ly/FEML-5-PROB"
   ]
  },
  {
   "cell_type": "markdown",
   "metadata": {
    "id": "Rgwz8x0HBnlY"
   },
   "source": [
    "# Влияние предобработки данных на модель"
   ]
  },
  {
   "cell_type": "code",
   "execution_count": null,
   "metadata": {
    "id": "1YYUs0MxL0LX"
   },
   "outputs": [],
   "source": [
    "import numpy as np\n",
    "import pandas as pd\n",
    "import seaborn as sns\n",
    "\n",
    "from sklearn.linear_model import LinearRegression\n",
    "from sklearn.preprocessing import LabelEncoder"
   ]
  },
  {
   "cell_type": "code",
   "execution_count": 3,
   "metadata": {
    "colab": {
     "base_uri": "https://localhost:8080/",
     "height": 206
    },
    "id": "E0O7bQveL0La",
    "outputId": "1af29b0f-26f1-4e0a-80ed-5a56025c5763"
   },
   "outputs": [
    {
     "data": {
      "text/html": [
       "<div>\n",
       "<style scoped>\n",
       "    .dataframe tbody tr th:only-of-type {\n",
       "        vertical-align: middle;\n",
       "    }\n",
       "\n",
       "    .dataframe tbody tr th {\n",
       "        vertical-align: top;\n",
       "    }\n",
       "\n",
       "    .dataframe thead th {\n",
       "        text-align: right;\n",
       "    }\n",
       "</style>\n",
       "<table border=\"1\" class=\"dataframe\">\n",
       "  <thead>\n",
       "    <tr style=\"text-align: right;\">\n",
       "      <th></th>\n",
       "      <th>age_owner</th>\n",
       "      <th>length</th>\n",
       "      <th>width</th>\n",
       "      <th>price</th>\n",
       "    </tr>\n",
       "  </thead>\n",
       "  <tbody>\n",
       "    <tr>\n",
       "      <th>0</th>\n",
       "      <td>75</td>\n",
       "      <td>57</td>\n",
       "      <td>70</td>\n",
       "      <td>399126</td>\n",
       "    </tr>\n",
       "    <tr>\n",
       "      <th>1</th>\n",
       "      <td>77</td>\n",
       "      <td>39</td>\n",
       "      <td>60</td>\n",
       "      <td>234126</td>\n",
       "    </tr>\n",
       "    <tr>\n",
       "      <th>2</th>\n",
       "      <td>43</td>\n",
       "      <td>30</td>\n",
       "      <td>36</td>\n",
       "      <td>108126</td>\n",
       "    </tr>\n",
       "    <tr>\n",
       "      <th>3</th>\n",
       "      <td>86</td>\n",
       "      <td>30</td>\n",
       "      <td>68</td>\n",
       "      <td>204126</td>\n",
       "    </tr>\n",
       "    <tr>\n",
       "      <th>4</th>\n",
       "      <td>43</td>\n",
       "      <td>41</td>\n",
       "      <td>52</td>\n",
       "      <td>213326</td>\n",
       "    </tr>\n",
       "  </tbody>\n",
       "</table>\n",
       "</div>"
      ],
      "text/plain": [
       "   age_owner  length  width   price\n",
       "0         75      57     70  399126\n",
       "1         77      39     60  234126\n",
       "2         43      30     36  108126\n",
       "3         86      30     68  204126\n",
       "4         43      41     52  213326"
      ]
     },
     "execution_count": 3,
     "metadata": {},
     "output_type": "execute_result"
    }
   ],
   "source": [
    "# Создаём сэмпл\n",
    "n_samples = 1000\n",
    "\n",
    "np.random.seed(9)\n",
    "age_owner = np.random.choice(90, n_samples) + 21\n",
    "length = np.random.choice(120, n_samples) + 15\n",
    "width = np.random.choice(80, n_samples) + 10\n",
    "\n",
    "price = length * width * 100 + 126\n",
    "\n",
    "data = pd.DataFrame({\n",
    "    'age_owner': age_owner,\n",
    "    'length': length,\n",
    "    'width': width,\n",
    "    'price': price\n",
    "})\n",
    "data.head(5)"
   ]
  },
  {
   "cell_type": "code",
   "execution_count": 4,
   "metadata": {
    "colab": {
     "base_uri": "https://localhost:8080/"
    },
    "id": "iic0IgL-q7Qa",
    "outputId": "bd71bcc0-38b7-4688-af13-183dd912cd16"
   },
   "outputs": [
    {
     "name": "stdout",
     "output_type": "stream",
     "text": [
      "<class 'pandas.core.frame.DataFrame'>\n",
      "RangeIndex: 1000 entries, 0 to 999\n",
      "Data columns (total 4 columns):\n",
      " #   Column     Non-Null Count  Dtype\n",
      "---  ------     --------------  -----\n",
      " 0   age_owner  1000 non-null   int32\n",
      " 1   length     1000 non-null   int32\n",
      " 2   width      1000 non-null   int32\n",
      " 3   price      1000 non-null   int32\n",
      "dtypes: int32(4)\n",
      "memory usage: 15.8 KB\n"
     ]
    }
   ],
   "source": [
    "data.info()"
   ]
  },
  {
   "cell_type": "code",
   "execution_count": 5,
   "metadata": {
    "colab": {
     "base_uri": "https://localhost:8080/",
     "height": 300
    },
    "id": "XYOH103ArAMT",
    "outputId": "8f879b4e-644c-41b1-acd4-faf064a670e3"
   },
   "outputs": [
    {
     "data": {
      "text/html": [
       "<div>\n",
       "<style scoped>\n",
       "    .dataframe tbody tr th:only-of-type {\n",
       "        vertical-align: middle;\n",
       "    }\n",
       "\n",
       "    .dataframe tbody tr th {\n",
       "        vertical-align: top;\n",
       "    }\n",
       "\n",
       "    .dataframe thead th {\n",
       "        text-align: right;\n",
       "    }\n",
       "</style>\n",
       "<table border=\"1\" class=\"dataframe\">\n",
       "  <thead>\n",
       "    <tr style=\"text-align: right;\">\n",
       "      <th></th>\n",
       "      <th>age_owner</th>\n",
       "      <th>length</th>\n",
       "      <th>width</th>\n",
       "      <th>price</th>\n",
       "    </tr>\n",
       "  </thead>\n",
       "  <tbody>\n",
       "    <tr>\n",
       "      <th>count</th>\n",
       "      <td>1000.000000</td>\n",
       "      <td>1000.000000</td>\n",
       "      <td>1000.000000</td>\n",
       "      <td>1.000000e+03</td>\n",
       "    </tr>\n",
       "    <tr>\n",
       "      <th>mean</th>\n",
       "      <td>65.461000</td>\n",
       "      <td>74.375000</td>\n",
       "      <td>50.207000</td>\n",
       "      <td>3.709868e+05</td>\n",
       "    </tr>\n",
       "    <tr>\n",
       "      <th>std</th>\n",
       "      <td>25.728981</td>\n",
       "      <td>33.975708</td>\n",
       "      <td>22.682342</td>\n",
       "      <td>2.480216e+05</td>\n",
       "    </tr>\n",
       "    <tr>\n",
       "      <th>min</th>\n",
       "      <td>21.000000</td>\n",
       "      <td>15.000000</td>\n",
       "      <td>10.000000</td>\n",
       "      <td>2.212600e+04</td>\n",
       "    </tr>\n",
       "    <tr>\n",
       "      <th>25%</th>\n",
       "      <td>43.000000</td>\n",
       "      <td>45.000000</td>\n",
       "      <td>30.000000</td>\n",
       "      <td>1.681010e+05</td>\n",
       "    </tr>\n",
       "    <tr>\n",
       "      <th>50%</th>\n",
       "      <td>65.000000</td>\n",
       "      <td>73.000000</td>\n",
       "      <td>51.000000</td>\n",
       "      <td>3.106260e+05</td>\n",
       "    </tr>\n",
       "    <tr>\n",
       "      <th>75%</th>\n",
       "      <td>88.000000</td>\n",
       "      <td>103.000000</td>\n",
       "      <td>69.000000</td>\n",
       "      <td>5.228010e+05</td>\n",
       "    </tr>\n",
       "    <tr>\n",
       "      <th>max</th>\n",
       "      <td>110.000000</td>\n",
       "      <td>134.000000</td>\n",
       "      <td>89.000000</td>\n",
       "      <td>1.139126e+06</td>\n",
       "    </tr>\n",
       "  </tbody>\n",
       "</table>\n",
       "</div>"
      ],
      "text/plain": [
       "         age_owner       length        width         price\n",
       "count  1000.000000  1000.000000  1000.000000  1.000000e+03\n",
       "mean     65.461000    74.375000    50.207000  3.709868e+05\n",
       "std      25.728981    33.975708    22.682342  2.480216e+05\n",
       "min      21.000000    15.000000    10.000000  2.212600e+04\n",
       "25%      43.000000    45.000000    30.000000  1.681010e+05\n",
       "50%      65.000000    73.000000    51.000000  3.106260e+05\n",
       "75%      88.000000   103.000000    69.000000  5.228010e+05\n",
       "max     110.000000   134.000000    89.000000  1.139126e+06"
      ]
     },
     "execution_count": 5,
     "metadata": {},
     "output_type": "execute_result"
    }
   ],
   "source": [
    "data.describe()"
   ]
  },
  {
   "cell_type": "code",
   "execution_count": 14,
   "metadata": {},
   "outputs": [
    {
     "data": {
      "text/html": [
       "<div>\n",
       "<style scoped>\n",
       "    .dataframe tbody tr th:only-of-type {\n",
       "        vertical-align: middle;\n",
       "    }\n",
       "\n",
       "    .dataframe tbody tr th {\n",
       "        vertical-align: top;\n",
       "    }\n",
       "\n",
       "    .dataframe thead th {\n",
       "        text-align: right;\n",
       "    }\n",
       "</style>\n",
       "<table border=\"1\" class=\"dataframe\">\n",
       "  <thead>\n",
       "    <tr style=\"text-align: right;\">\n",
       "      <th></th>\n",
       "      <th>age_owner</th>\n",
       "      <th>length</th>\n",
       "      <th>width</th>\n",
       "      <th>price</th>\n",
       "      <th>mult</th>\n",
       "    </tr>\n",
       "  </thead>\n",
       "  <tbody>\n",
       "    <tr>\n",
       "      <th>count</th>\n",
       "      <td>1000.000000</td>\n",
       "      <td>1000.000000</td>\n",
       "      <td>1000.000000</td>\n",
       "      <td>1.000000e+03</td>\n",
       "      <td>1000.000000</td>\n",
       "    </tr>\n",
       "    <tr>\n",
       "      <th>mean</th>\n",
       "      <td>65.461000</td>\n",
       "      <td>74.375000</td>\n",
       "      <td>50.207000</td>\n",
       "      <td>3.709868e+05</td>\n",
       "      <td>3708.608000</td>\n",
       "    </tr>\n",
       "    <tr>\n",
       "      <th>std</th>\n",
       "      <td>25.728981</td>\n",
       "      <td>33.975708</td>\n",
       "      <td>22.682342</td>\n",
       "      <td>2.480216e+05</td>\n",
       "      <td>2480.216004</td>\n",
       "    </tr>\n",
       "    <tr>\n",
       "      <th>min</th>\n",
       "      <td>21.000000</td>\n",
       "      <td>15.000000</td>\n",
       "      <td>10.000000</td>\n",
       "      <td>2.212600e+04</td>\n",
       "      <td>220.000000</td>\n",
       "    </tr>\n",
       "    <tr>\n",
       "      <th>10%</th>\n",
       "      <td>30.000000</td>\n",
       "      <td>28.000000</td>\n",
       "      <td>18.000000</td>\n",
       "      <td>1.000260e+05</td>\n",
       "      <td>999.000000</td>\n",
       "    </tr>\n",
       "    <tr>\n",
       "      <th>20%</th>\n",
       "      <td>38.000000</td>\n",
       "      <td>39.800000</td>\n",
       "      <td>26.000000</td>\n",
       "      <td>1.431260e+05</td>\n",
       "      <td>1430.000000</td>\n",
       "    </tr>\n",
       "    <tr>\n",
       "      <th>50%</th>\n",
       "      <td>65.000000</td>\n",
       "      <td>73.000000</td>\n",
       "      <td>51.000000</td>\n",
       "      <td>3.106260e+05</td>\n",
       "      <td>3105.000000</td>\n",
       "    </tr>\n",
       "    <tr>\n",
       "      <th>90%</th>\n",
       "      <td>102.000000</td>\n",
       "      <td>123.000000</td>\n",
       "      <td>81.000000</td>\n",
       "      <td>7.451960e+05</td>\n",
       "      <td>7450.700000</td>\n",
       "    </tr>\n",
       "    <tr>\n",
       "      <th>max</th>\n",
       "      <td>110.000000</td>\n",
       "      <td>134.000000</td>\n",
       "      <td>89.000000</td>\n",
       "      <td>1.139126e+06</td>\n",
       "      <td>11390.000000</td>\n",
       "    </tr>\n",
       "  </tbody>\n",
       "</table>\n",
       "</div>"
      ],
      "text/plain": [
       "         age_owner       length        width         price          mult\n",
       "count  1000.000000  1000.000000  1000.000000  1.000000e+03   1000.000000\n",
       "mean     65.461000    74.375000    50.207000  3.709868e+05   3708.608000\n",
       "std      25.728981    33.975708    22.682342  2.480216e+05   2480.216004\n",
       "min      21.000000    15.000000    10.000000  2.212600e+04    220.000000\n",
       "10%      30.000000    28.000000    18.000000  1.000260e+05    999.000000\n",
       "20%      38.000000    39.800000    26.000000  1.431260e+05   1430.000000\n",
       "50%      65.000000    73.000000    51.000000  3.106260e+05   3105.000000\n",
       "90%     102.000000   123.000000    81.000000  7.451960e+05   7450.700000\n",
       "max     110.000000   134.000000    89.000000  1.139126e+06  11390.000000"
      ]
     },
     "execution_count": 14,
     "metadata": {},
     "output_type": "execute_result"
    }
   ],
   "source": [
    "data.describe(percentiles=[0.1, 0.2, 0.9])"
   ]
  },
  {
   "cell_type": "code",
   "execution_count": 6,
   "metadata": {
    "colab": {
     "base_uri": "https://localhost:8080/"
    },
    "id": "dfqlnxOTrGBf",
    "outputId": "d41f0cbc-9428-471a-bf05-35a5fe069b12"
   },
   "outputs": [
    {
     "data": {
      "text/plain": [
       "length\n",
       "27     15\n",
       "55     15\n",
       "44     15\n",
       "129    14\n",
       "132    13\n",
       "       ..\n",
       "109     4\n",
       "62      4\n",
       "116     4\n",
       "114     4\n",
       "18      4\n",
       "Name: count, Length: 120, dtype: int64"
      ]
     },
     "execution_count": 6,
     "metadata": {},
     "output_type": "execute_result"
    }
   ],
   "source": [
    "data['length'].value_counts()"
   ]
  },
  {
   "cell_type": "code",
   "execution_count": null,
   "metadata": {},
   "outputs": [],
   "source": [
    "sns.boxplot(data.length)"
   ]
  },
  {
   "cell_type": "code",
   "execution_count": 16,
   "metadata": {},
   "outputs": [
    {
     "data": {
      "text/plain": [
       "<Axes: >"
      ]
     },
     "execution_count": 16,
     "metadata": {},
     "output_type": "execute_result"
    },
    {
     "data": {
      "image/png": "[encoded data removed]",
      "text/plain": [
       "<Figure size 640x480 with 1 Axes>"
      ]
     },
     "metadata": {},
     "output_type": "display_data"
    }
   ],
   "source": [
    "data['length'].hist(bins=10)"
   ]
  },
  {
   "cell_type": "code",
   "execution_count": 7,
   "metadata": {
    "colab": {
     "base_uri": "https://localhost:8080/"
    },
    "id": "P5xbMCxQL0Lc",
    "outputId": "a7550da3-a4a5-4de5-838e-8a3f4b770303"
   },
   "outputs": [
    {
     "name": "stdout",
     "output_type": "stream",
     "text": [
      "Weights: [-149.11046279 5071.76422338 7366.90372375]\n",
      "Bias: -366334.8793674496\n",
      "Error: 56547.37163550542\n"
     ]
    }
   ],
   "source": [
    "from sklearn.metrics import mean_absolute_error\n",
    "\n",
    "X = data[['age_owner', 'length', 'width']]\n",
    "y = data['price']\n",
    "\n",
    "\n",
    "reg = LinearRegression().fit(X, y)\n",
    "print('Weights: {}'.format(reg.coef_))\n",
    "print('Bias: {}'.format(reg.intercept_))\n",
    "\n",
    "pred_values = reg.predict(data[['age_owner', 'length', 'width']])\n",
    "print('Error: {}'.format(mean_absolute_error(pred_values, y)))"
   ]
  },
  {
   "cell_type": "code",
   "execution_count": 17,
   "metadata": {
    "colab": {
     "base_uri": "https://localhost:8080/"
    },
    "id": "sd0CtY2QL0Le",
    "outputId": "a7144324-39e8-4b48-bde7-b850baf826da"
   },
   "outputs": [
    {
     "data": {
      "text/plain": [
       "(np.float64(310626.0), np.float64(370986.8))"
      ]
     },
     "execution_count": 17,
     "metadata": {},
     "output_type": "execute_result"
    }
   ],
   "source": [
    "y.median(), y.mean()"
   ]
  },
  {
   "cell_type": "code",
   "execution_count": 9,
   "metadata": {
    "colab": {
     "base_uri": "https://localhost:8080/"
    },
    "id": "YTWvGOsFL0Lf",
    "outputId": "2d353137-dc05-4f48-b38a-b1c690c872d1"
   },
   "outputs": [
    {
     "name": "stdout",
     "output_type": "stream",
     "text": [
      "Weights: [5073.23397859 7365.79408501]\n",
      "Bias: -376149.4007836822\n",
      "Error: 56518.60518237619\n"
     ]
    }
   ],
   "source": [
    "X = data[['length', 'width']]\n",
    "y = data['price']\n",
    "reg = LinearRegression().fit(X, y)\n",
    "print('Weights: {}'.format(reg.coef_))\n",
    "print('Bias: {}'.format(reg.intercept_))\n",
    "\n",
    "pred_values = reg.predict(data[['length', 'width']])\n",
    "print('Error: {}'.format(mean_absolute_error(pred_values, y)))"
   ]
  },
  {
   "cell_type": "code",
   "execution_count": 10,
   "metadata": {
    "colab": {
     "base_uri": "https://localhost:8080/",
     "height": 206
    },
    "id": "VLw8_hdYL0Lh",
    "outputId": "9ea82256-9284-46a4-d86b-f480a9d1d355"
   },
   "outputs": [
    {
     "data": {
      "text/html": [
       "<div>\n",
       "<style scoped>\n",
       "    .dataframe tbody tr th:only-of-type {\n",
       "        vertical-align: middle;\n",
       "    }\n",
       "\n",
       "    .dataframe tbody tr th {\n",
       "        vertical-align: top;\n",
       "    }\n",
       "\n",
       "    .dataframe thead th {\n",
       "        text-align: right;\n",
       "    }\n",
       "</style>\n",
       "<table border=\"1\" class=\"dataframe\">\n",
       "  <thead>\n",
       "    <tr style=\"text-align: right;\">\n",
       "      <th></th>\n",
       "      <th>age_owner</th>\n",
       "      <th>length</th>\n",
       "      <th>width</th>\n",
       "      <th>price</th>\n",
       "      <th>mult</th>\n",
       "    </tr>\n",
       "  </thead>\n",
       "  <tbody>\n",
       "    <tr>\n",
       "      <th>0</th>\n",
       "      <td>75</td>\n",
       "      <td>57</td>\n",
       "      <td>70</td>\n",
       "      <td>399126</td>\n",
       "      <td>3990</td>\n",
       "    </tr>\n",
       "    <tr>\n",
       "      <th>1</th>\n",
       "      <td>77</td>\n",
       "      <td>39</td>\n",
       "      <td>60</td>\n",
       "      <td>234126</td>\n",
       "      <td>2340</td>\n",
       "    </tr>\n",
       "    <tr>\n",
       "      <th>2</th>\n",
       "      <td>43</td>\n",
       "      <td>30</td>\n",
       "      <td>36</td>\n",
       "      <td>108126</td>\n",
       "      <td>1080</td>\n",
       "    </tr>\n",
       "    <tr>\n",
       "      <th>3</th>\n",
       "      <td>86</td>\n",
       "      <td>30</td>\n",
       "      <td>68</td>\n",
       "      <td>204126</td>\n",
       "      <td>2040</td>\n",
       "    </tr>\n",
       "    <tr>\n",
       "      <th>4</th>\n",
       "      <td>43</td>\n",
       "      <td>41</td>\n",
       "      <td>52</td>\n",
       "      <td>213326</td>\n",
       "      <td>2132</td>\n",
       "    </tr>\n",
       "  </tbody>\n",
       "</table>\n",
       "</div>"
      ],
      "text/plain": [
       "   age_owner  length  width   price  mult\n",
       "0         75      57     70  399126  3990\n",
       "1         77      39     60  234126  2340\n",
       "2         43      30     36  108126  1080\n",
       "3         86      30     68  204126  2040\n",
       "4         43      41     52  213326  2132"
      ]
     },
     "execution_count": 10,
     "metadata": {},
     "output_type": "execute_result"
    }
   ],
   "source": [
    "# Создаем новый признак\n",
    "data['mult'] = data['length'] * data['width']\n",
    "data.head(5)"
   ]
  },
  {
   "cell_type": "code",
   "execution_count": 11,
   "metadata": {
    "colab": {
     "base_uri": "https://localhost:8080/"
    },
    "id": "B2WlkskJL0Li",
    "outputId": "c6956a38-e197-4cdf-ca9f-97af12d35a72"
   },
   "outputs": [
    {
     "name": "stdout",
     "output_type": "stream",
     "text": [
      "Weights: [100.]\n",
      "Bias: 126.0\n",
      "Error: 5.82549546379596e-11\n"
     ]
    }
   ],
   "source": [
    "X = data[['mult']]\n",
    "y = data['price']\n",
    "reg = LinearRegression().fit(X, y)\n",
    "print('Weights: {}'.format(reg.coef_))\n",
    "print('Bias: {}'.format(reg.intercept_))\n",
    "\n",
    "pred_values = reg.predict(X)\n",
    "print('Error: {}'.format(mean_absolute_error(pred_values, y)))"
   ]
  },
  {
   "cell_type": "code",
   "execution_count": 18,
   "metadata": {
    "colab": {
     "base_uri": "https://localhost:8080/"
    },
    "id": "hJxRlhFZr35E",
    "outputId": "8403275c-b277-4079-fd97-db769f5da6c2"
   },
   "outputs": [
    {
     "data": {
      "text/plain": [
       "array(['1', 'age_owner', 'length', 'width', 'age_owner^2',\n",
       "       'age_owner length', 'age_owner width', 'length^2', 'length width',\n",
       "       'width^2', 'age_owner^3', 'age_owner^2 length',\n",
       "       'age_owner^2 width', 'age_owner length^2',\n",
       "       'age_owner length width', 'age_owner width^2', 'length^3',\n",
       "       'length^2 width', 'length width^2', 'width^3'], dtype=object)"
      ]
     },
     "execution_count": 18,
     "metadata": {},
     "output_type": "execute_result"
    }
   ],
   "source": [
    "from sklearn.preprocessing import PolynomialFeatures\n",
    "\n",
    "poly = PolynomialFeatures(\n",
    "    degree=3,\n",
    "    # include_bias=False,\n",
    "    # interaction_only=True\n",
    ")\n",
    "X = poly.fit_transform(data[['age_owner', 'length', 'width']])\n",
    "y = data['price']\n",
    "\n",
    "poly.get_feature_names_out()"
   ]
  },
  {
   "cell_type": "code",
   "execution_count": 13,
   "metadata": {
    "colab": {
     "base_uri": "https://localhost:8080/"
    },
    "id": "yED_pFevsIFx",
    "outputId": "f14d18a0-b6bc-4c59-d908-ccaa726d0727"
   },
   "outputs": [
    {
     "name": "stdout",
     "output_type": "stream",
     "text": [
      "Weights: [ 0.00000000e+00 -6.41442455e-12  2.84757981e-12  1.22887117e-12\n",
      " -6.35047570e-14  5.24025268e-14  6.61692923e-14 -1.42108547e-14\n",
      "  1.00000000e+02 -3.55271368e-15]\n",
      "Bias: 126.00000000011642\n",
      "Error: 1.8728314898908137e-10\n"
     ]
    }
   ],
   "source": [
    "reg_poly = LinearRegression().fit(X, y)\n",
    "print('Weights: {}'.format(reg_poly.coef_))\n",
    "print('Bias: {}'.format(reg_poly.intercept_))\n",
    "\n",
    "pred_values = reg_poly.predict(X)\n",
    "print('Error: {}'.format(mean_absolute_error(pred_values, y)))"
   ]
  },
  {
   "cell_type": "markdown",
   "metadata": {
    "id": "YQq47AmS9t4O"
   },
   "source": [
    "# **Дополнительные материалы**\n",
    "1. Типы данных https://youtu.be/c4Cg3TUIH0E \n",
    "2. Метрика ROC-AUC https://youtu.be/v6PPG8J_Egs\n",
    "3. Метрика F1-score https://youtu.be/PeE3Fkt5W3Q\n",
    "4. Масштабирование данных (StandartScaler, MinMaxScaler) https://youtu.be/XsuCOfpf8Ic"
   ]
  }
 ],
 "metadata": {
  "colab": {
   "collapsed_sections": [],
   "provenance": [],
   "toc_visible": true
  },
  "kernelspec": {
   "display_name": "Python 3",
   "language": "python",
   "name": "python3"
  },
  "language_info": {
   "codemirror_mode": {
    "name": "ipython",
    "version": 3
   },
   "file_extension": ".py",
   "mimetype": "text/x-python",
   "name": "python",
   "nbconvert_exporter": "python",
   "pygments_lexer": "ipython3",
   "version": "3.13.0"
  }
 },
 "nbformat": 4,
 "nbformat_minor": 0
}
